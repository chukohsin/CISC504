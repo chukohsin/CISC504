{
 "cells": [
  {
   "cell_type": "code",
   "execution_count": null,
   "metadata": {},
   "outputs": [],
   "source": [
    "#Future Value example\n",
    "principal = float(input('Enter the initial principal: '))\n",
    "apr = float(input('Enter the annualized interest rate: '))\n",
    "def main(): print ('This program calculates the future value of a 10-year investment.')\n",
    "for i in range(10):principal = principal * (1 + apr)\n",
    "print ('The amount in 10 years is:', principal)\n",
    "\n",
    "main()"
   ]
  },
  {
   "cell_type": "markdown",
   "metadata": {},
   "source": [
    "In the Future Value example\n",
    "- name: principal, apr, main\n",
    "- expression: principal * (1 + apr)\n",
    "- output statement: print ('The amount in 10 years is:', principal)\n",
    "- variable assignment: principal = float(input('Enter the initial principal: '))"
   ]
  },
  {
   "cell_type": "code",
   "execution_count": 4,
   "metadata": {
    "scrolled": false
   },
   "outputs": [
    {
     "name": "stdout",
     "output_type": "stream",
     "text": [
      "Please enter miles you want to convert: 3\n",
      "3.0  miles is equal to  4.828032  kilometers.\n"
     ]
    }
   ],
   "source": [
    "def miles_to_km(miles):\n",
    "    return miles * 1.609344\n",
    "miles = float(input('Please enter miles you want to convert: '))\n",
    "kilometers = miles_to_km(miles)\n",
    "print(miles, ' miles is equal to ', kilometers, ' kilometers.')\n",
    "    "
   ]
  }
 ],
 "metadata": {
  "kernelspec": {
   "display_name": "Python 3",
   "language": "python",
   "name": "python3"
  },
  "language_info": {
   "codemirror_mode": {
    "name": "ipython",
    "version": 3
   },
   "file_extension": ".py",
   "mimetype": "text/x-python",
   "name": "python",
   "nbconvert_exporter": "python",
   "pygments_lexer": "ipython3",
   "version": "3.7.1"
  }
 },
 "nbformat": 4,
 "nbformat_minor": 2
}
