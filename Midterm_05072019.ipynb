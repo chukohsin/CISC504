{
 "cells": [
  {
   "cell_type": "code",
   "execution_count": 37,
   "metadata": {},
   "outputs": [
    {
     "name": "stdout",
     "output_type": "stream",
     "text": [
      "Welcome, please select a product from the following list: \n",
      "1 coke: $2.75\n",
      "2 m_m: $1.85\n",
      "3 chocolate: $3.65\n",
      "Enter a number (1 - 3):1\n",
      "Your total is: $2.75\n",
      "Please insert money here (only 5 dollar bills are accepted): 10\n",
      "Here's your changes: [1.0, 1.0, 1.0, 1.0, 1.0, 1.0, 1.0, 0.25]\n"
     ]
    }
   ],
   "source": [
    "# Develop an algorithm which will be used by a vending machine to dispense change. The cost of\n",
    "# the item can be any amount up to five dollars and we will assume that the machine only accepts\n",
    "# 5 dollar bills and returns change using the highest form of currency first, the dollar bill, followed\n",
    "# by quarters then dimes, then nickels, and finally pennies. So if an item costs $ 1.65 the machine\n",
    "# will return three 1 dollar bills and one quarter and 1 dime. Print “Insert More Money” if the\n",
    "# amount entered is less than cost of the item selected for vending, otherwise dispense correct\n",
    "# change. (25 pts)\n",
    "\n",
    "products = [{'name': 'coke', 'price': 2.75}, {'name': 'm_m', 'price': 1.85}, {'name': 'chocolate', 'price': 3.65} ]\n",
    "\n",
    "print('Welcome, please select a product from the following list: ')\n",
    "for num, product in enumerate(products, start = 1):\n",
    "    print(str(num) + ' ' + product['name'] + ': $' + str(product['price']))\n",
    "selected = int(input('Enter a number (1 - 3):'))\n",
    "while selected < 1 or selected > 3:\n",
    "    print('Please enter a valid number!')\n",
    "    selected = int(input('Enter a number (1 - 3): '))\n",
    "cost = products[selected - 1]['price']\n",
    "print('Your total is: ' + '$' + str(cost))\n",
    "money_collected = int(input('Please insert money here (only 5 dollar bills are accepted): '))\n",
    "while money_collected % 5 != 0:\n",
    "    print('Only 5 dollar bills are accepted!')\n",
    "    money_collected = int(input('Please insert money here (only 5 dollar bills are accepted): '))\n",
    "changes = []\n",
    "remaining = (money_collected - cost) * 100\n",
    "forms = [100, 25, 10, 5, 1]\n",
    "index = 0\n",
    "while remaining > 0:\n",
    "    if remaining >= forms[index]: \n",
    "        changes.append(forms[index]/100)\n",
    "        remaining = remaining - forms[index]\n",
    "    else:\n",
    "        index = index + 1\n",
    "print(\"Here's your changes: \" + '[%s]' % ', '.join(map(str, changes)))\n",
    "    "
   ]
  },
  {
   "cell_type": "code",
   "execution_count": 51,
   "metadata": {},
   "outputs": [
    {
     "name": "stdout",
     "output_type": "stream",
     "text": [
      "Please enter the string you want to modify: I loVe coffee And Beer:)\n",
      "The modified string is: \n"
     ]
    },
    {
     "data": {
      "text/plain": [
       "'I-LOVE-COFFEE-AND-BEER:).'"
      ]
     },
     "execution_count": 51,
     "metadata": {},
     "output_type": "execute_result"
    }
   ],
   "source": [
    "# Write a program that modifies a string as follows: The user is solicited to input a string then a\n",
    "# loop goes through the characters of the string one at a time, it changes all lower case characters\n",
    "# to upper case characters, replaces spaces with one dash - , and adds an exclamation mark at the\n",
    "# end of the string. So for example if a user types ‘I love python’ the program will output :\n",
    "# I-LOVE-PYTHON. Remember as we saw in lesson 4 that the ord() and chr() functions can be used\n",
    "# to retrieve the code for the characters and vice versa, encode and decode. Also there always\n",
    "# exists a difference of 32 between the uppercase and lower case encodings of uppercase and\n",
    "# lower case letters, for example ord(‘A’)=65 and ord(‘a’)=97, 97 – 65 = 32. (25 pts)\n",
    "\n",
    "def modifier(string):\n",
    "    modified = ''\n",
    "    for idx, character in enumerate(string):\n",
    "        modified = modified.replace(' ', '-')\n",
    "        if ord(character) == 32:\n",
    "            modified = modified + '-'\n",
    "        elif 97 <= ord(character) <= 122:\n",
    "            modified = modified + chr(ord(character) - 32)\n",
    "        else:\n",
    "            modified = modified + character\n",
    "    modified = modified + '.'\n",
    "    return modified\n",
    "\n",
    "string = str(input('Please enter the string you want to modify: '))\n",
    "print('The modified string is: ')\n",
    "modifier(string)"
   ]
  },
  {
   "cell_type": "code",
   "execution_count": null,
   "metadata": {},
   "outputs": [],
   "source": []
  },
  {
   "cell_type": "code",
   "execution_count": 59,
   "metadata": {},
   "outputs": [
    {
     "name": "stdout",
     "output_type": "stream",
     "text": [
      "Do you like red wine or white wine (red/white): white\n",
      "Do you like floral or citrusy wine (floral/citrusy): citrusy\n",
      "Do you like sweet or dry wine (sweet/dry): sweet\n"
     ]
    },
    {
     "data": {
      "text/plain": [
       "'Try a bottle of dry Riesling!'"
      ]
     },
     "execution_count": 59,
     "metadata": {},
     "output_type": "execute_result"
    }
   ],
   "source": [
    "# Develop an algorithm which incorporates decision making and Boolean logic, create a flowchart,\n",
    "# and then develop the code. The algorithm could be a classification algorithm, a process for\n",
    "# solving a problem, or a few questions which help a user buy a car, choose an area to go to\n",
    "# vacation based on weather and other preferences, or a n interactive story where the user input\n",
    "# changes the sequence of upcoming events, be creative. You will be graded according to the\n",
    "# following criteria:\n",
    "\n",
    "def pick_citrusy_white():\n",
    "    sweet = str(input('Do you like sweet or dry wine (sweet/dry): '))\n",
    "    if sweet.lower() == 'dry':\n",
    "        return 'Try a bottle of dry Riesling!'\n",
    "    elif sweet.lower() == 'sweet':\n",
    "        return 'Semi dry Riesling will be a good choice for you!'\n",
    "    else:\n",
    "        print('Please enter a valid value!')\n",
    "        return pick_citrusy_white()\n",
    "    \n",
    "def pick_light_red():\n",
    "    tannins = str(input('Do you like high or low tannin wine (high/low): '))\n",
    "    if tannins.lower() == 'low':\n",
    "        return 'Choose a bottle of Pinot Noir or Gamay!'\n",
    "    elif tannins.lower() == 'high':\n",
    "        return 'Choose a bottle of Nebbiolo!'\n",
    "    else:\n",
    "        print('Please enter a valid value!')\n",
    "        return pick_light_red()\n",
    "        \n",
    "def pick_red():\n",
    "    body = str(input('Do you like light or bold red wine (light/bold): '))\n",
    "    if body.lower() == 'light':\n",
    "        return pick_light_red()\n",
    "    elif body.lower() == 'bold':\n",
    "        return 'Try out Cabernet Sauvignon or Petit Syrah for some dark fruit flavors!'\n",
    "    else:\n",
    "        print('Please enter a valid value!')\n",
    "        return pick_red()\n",
    "    \n",
    "def pick_white():\n",
    "    aroma = str(input('Do you like floral or citrusy wine (floral/citrusy): '))\n",
    "    if aroma.lower() == 'floral':\n",
    "        return 'Try a bottle of Gewurztraminer for rose aroma!'\n",
    "    elif aroma.lower() == 'citrusy':\n",
    "        return pick_citrusy_white()\n",
    "    else:\n",
    "        print('Please enter a valid value!')\n",
    "        return pick_white()\n",
    "    \n",
    "def wine_picker():\n",
    "    color = str(input('Do you like red wine or white wine (red/white): '))\n",
    "    if color.lower() == 'red':\n",
    "        return pick_red()\n",
    "    elif color.lower() == 'white':\n",
    "        return pick_white()\n",
    "    else:\n",
    "        print('Please enter a valid value!')\n",
    "\n",
    "wine_picker()\n"
   ]
  }
 ],
 "metadata": {
  "kernelspec": {
   "display_name": "Python 3",
   "language": "python",
   "name": "python3"
  },
  "language_info": {
   "codemirror_mode": {
    "name": "ipython",
    "version": 3
   },
   "file_extension": ".py",
   "mimetype": "text/x-python",
   "name": "python",
   "nbconvert_exporter": "python",
   "pygments_lexer": "ipython3",
   "version": "3.7.1"
  }
 },
 "nbformat": 4,
 "nbformat_minor": 2
}
