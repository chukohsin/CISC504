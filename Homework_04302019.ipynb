{
 "cells": [
  {
   "cell_type": "code",
   "execution_count": 8,
   "metadata": {},
   "outputs": [
    {
     "name": "stdout",
     "output_type": "stream",
     "text": [
      "Please enter today's temperature in Celsius: 1\n",
      "1.0 degree Celsius is 33.8 degree Fahrenheit.\n",
      "It's cold!!! Remember to wear a coat!!!!\n"
     ]
    }
   ],
   "source": [
    "# HW Exercise 1: \n",
    "# Write a conversion program, calculator, or write any other program which uses a multi-way decision structure \n",
    "# if, elif, else, and boolean logic to classify the outcome.\n",
    "celsius = float(input('Please enter today\\'s temperature in Celsius: '))\n",
    "fahrenheit = celsius * 9 / 5 + 32\n",
    "print(str(celsius) + ' degree Celsius is ' + str(fahrenheit) + ' degree Fahrenheit.')\n",
    "if fahrenheit >= 85: print('It\\'s hot today!')\n",
    "elif 65 <= fahrenheit < 85: print('It\\'s warm today.')\n",
    "elif 40 <= fahrenheit < 65: print('It\\'s chill today.')\n",
    "else: print('It\\'s cold!!! Remember to wear a coat!!!!')"
   ]
  },
  {
   "cell_type": "code",
   "execution_count": 16,
   "metadata": {},
   "outputs": [
    {
     "name": "stdout",
     "output_type": "stream",
     "text": [
      "result is 0.75\n",
      "executing finally!!! Bye devide funtion!\n"
     ]
    }
   ],
   "source": [
    "# HW Exercise 2: \n",
    "# Write a program which will generate some exceptions then use \n",
    "# the try,except, else, and finally statements to handle them.\n",
    "\n",
    "def divide(a, b):\n",
    "    try:\n",
    "        result = a / b\n",
    "    except ZeroDivisionError:\n",
    "        print(\"division by zero!\")\n",
    "    except TypeError:\n",
    "        print(\"Please make sure to enter type that are dividable!\")\n",
    "    else:\n",
    "        print(\"result is\", result)\n",
    "    finally:\n",
    "        print(\"executing finally!!! Bye devide funtion!\")\n",
    "divide(1.5, 2)"
   ]
  }
 ],
 "metadata": {
  "kernelspec": {
   "display_name": "Python 3",
   "language": "python",
   "name": "python3"
  },
  "language_info": {
   "codemirror_mode": {
    "name": "ipython",
    "version": 3
   },
   "file_extension": ".py",
   "mimetype": "text/x-python",
   "name": "python",
   "nbconvert_exporter": "python",
   "pygments_lexer": "ipython3",
   "version": "3.7.1"
  }
 },
 "nbformat": 4,
 "nbformat_minor": 2
}
