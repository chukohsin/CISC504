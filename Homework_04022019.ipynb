{
 "cells": [
  {
   "cell_type": "code",
   "execution_count": 14,
   "metadata": {},
   "outputs": [
    {
     "name": "stdout",
     "output_type": "stream",
     "text": [
      "Hours: 1\n",
      "Minutes: 1\n",
      "The total time is 3660 seconds.\n"
     ]
    }
   ],
   "source": [
    "# Exercise 1: Develop a counter program that converts hours and minutes to seconds\n",
    "hours = int(input('Hours: '))\n",
    "minutes = int(input('Minutes: '))\n",
    "totalSeconds = hours * 60 * 60 + minutes * 60\n",
    "print('The total time is', totalSeconds, 'seconds.')"
   ]
  },
  {
   "cell_type": "code",
   "execution_count": 13,
   "metadata": {},
   "outputs": [
    {
     "name": "stdout",
     "output_type": "stream",
     "text": [
      "The sorted list is: [  1   3   4  10  21  26  33  43  45  51  56  65 106]\n",
      "The mean of the list is: 35.69230769230769\n",
      "The median of the list is: 33.0\n"
     ]
    }
   ],
   "source": [
    "# Exercise 2: Create the following list of numbers(26,1,43,21,33,106,45,4,10,3,51,56,65) and use the numpy library to sort the list then compute the mean and the median.\n",
    "import numpy as np\n",
    "list = [26,1,43,21,33,106,45,4,10,3,51,56,65]\n",
    "print('The sorted list is:', np.sort(list))\n",
    "print('The mean of the list is:', np.mean(list))\n",
    "print('The median of the list is:', np.median(list))"
   ]
  }
 ],
 "metadata": {
  "kernelspec": {
   "display_name": "Python 3",
   "language": "python",
   "name": "python3"
  },
  "language_info": {
   "codemirror_mode": {
    "name": "ipython",
    "version": 3
   },
   "file_extension": ".py",
   "mimetype": "text/x-python",
   "name": "python",
   "nbconvert_exporter": "python",
   "pygments_lexer": "ipython3",
   "version": "3.7.1"
  }
 },
 "nbformat": 4,
 "nbformat_minor": 2
}
