{
 "cells": [
  {
   "cell_type": "code",
   "execution_count": 26,
   "metadata": {},
   "outputs": [
    {
     "data": {
      "application/vnd.jupyter.widget-view+json": {
       "model_id": "e954d98a1196413f944d460b5cf0f05c",
       "version_major": 2,
       "version_minor": 0
      },
      "text/plain": [
       "Turtle()"
      ]
     },
     "metadata": {},
     "output_type": "display_data"
    }
   ],
   "source": [
    "from mobilechelonian import Turtle\n",
    "t=Turtle()\n",
    "t.speed(30)\n",
    "# head\n",
    "for radius in range(20, 36, 2):\n",
    "    t.circle(radius)\n",
    "t.right(90)\n",
    "# body\n",
    "t.forward(60)\n",
    "# left foot\n",
    "t.left(60)\n",
    "t.forward(15)\n",
    "t.left(60)\n",
    "t.forward(10)\n",
    "t.right(120)\n",
    "t.forward(10)\n",
    "t.right(120)\n",
    "t.forward(10)\n",
    "t.forward(15)\n",
    "# right foot\n",
    "t.left(60)\n",
    "t.forward(15)\n",
    "t.left(60)\n",
    "t.forward(10)\n",
    "t.right(120)\n",
    "t.forward(10)\n",
    "t.right(120)\n",
    "t.forward(10)\n",
    "t.forward(15)\n",
    "# arms\n",
    "t.left(60)\n",
    "t.forward(50)\n",
    "t.right(60)\n",
    "t.forward(50)\n",
    "t.backward(50)\n",
    "t.right(15)\n",
    "t.forward(50)\n",
    "# balloon\n",
    "t.left(60)\n",
    "t.forward(80)\n",
    "t.right(90)\n",
    "t.circle(30)"
   ]
  }
 ],
 "metadata": {
  "kernelspec": {
   "display_name": "Python 3",
   "language": "python",
   "name": "python3"
  },
  "language_info": {
   "codemirror_mode": {
    "name": "ipython",
    "version": 3
   },
   "file_extension": ".py",
   "mimetype": "text/x-python",
   "name": "python",
   "nbconvert_exporter": "python",
   "pygments_lexer": "ipython3",
   "version": "3.7.1"
  }
 },
 "nbformat": 4,
 "nbformat_minor": 2
}
