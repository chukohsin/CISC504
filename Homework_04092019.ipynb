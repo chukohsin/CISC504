{
 "cells": [
  {
   "cell_type": "code",
   "execution_count": 2,
   "metadata": {
    "scrolled": true
   },
   "outputs": [
    {
     "name": "stdout",
     "output_type": "stream",
     "text": [
      "JSmith\n"
     ]
    }
   ],
   "source": [
    "# HW Exercise 1:\n",
    "first_name = 'John'\n",
    "last_name = 'Smith'\n",
    "print(first_name[:1] + last_name)"
   ]
  },
  {
   "cell_type": "code",
   "execution_count": 6,
   "metadata": {},
   "outputs": [
    {
     "name": "stdout",
     "output_type": "stream",
     "text": [
      "The secret message is \"Secret\"\n"
     ]
    }
   ],
   "source": [
    "# HW Exercise 2:\n",
    "sentence = 'Send eagle cross rainbow entire time'\n",
    "secret = ''\n",
    "for word in sentence.split():\n",
    "    secret = secret + word[:1]\n",
    "print('The secret message is ' + '\"' + secret + '\"')"
   ]
  },
  {
   "cell_type": "code",
   "execution_count": null,
   "metadata": {},
   "outputs": [],
   "source": [
    "# HW Exercise 3:\n",
    "from string import ascii_lowercase as Characters\n",
    "\n",
    "# Encrypted function mentioned in the lecture\n",
    "def shift(message, offset):\n",
    "    trans = str.maketrans(Characters, Characters[offset:] + Characters[:offset])\n",
    "    return message.lower().translate(trans)\n",
    "\n",
    "print(shift(input(\"Input message you would like encrypted:\\n\"), 2))\n",
    "\n",
    "# Decrypted function to decrypt the output of above function\n",
    "def shiftBack(encrypted, originalOffset):\n",
    "    trans = str.maketrans(Characters, Characters[-originalOffset:] + Characters[:-originalOffset])\n",
    "    return encrypted.lower().translate(trans)\n",
    "\n",
    "print(shiftBack(input(\"Input code you would like to decrypt:\\n\"), 2))"
   ]
  }
 ],
 "metadata": {
  "kernelspec": {
   "display_name": "Python 3",
   "language": "python",
   "name": "python3"
  },
  "language_info": {
   "codemirror_mode": {
    "name": "ipython",
    "version": 3
   },
   "file_extension": ".py",
   "mimetype": "text/x-python",
   "name": "python",
   "nbconvert_exporter": "python",
   "pygments_lexer": "ipython3",
   "version": "3.7.1"
  }
 },
 "nbformat": 4,
 "nbformat_minor": 2
}
