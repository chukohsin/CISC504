{
 "cells": [
  {
   "cell_type": "code",
   "execution_count": 1,
   "metadata": {},
   "outputs": [
    {
     "data": {
      "text/plain": [
       "35"
      ]
     },
     "execution_count": 1,
     "metadata": {},
     "output_type": "execute_result"
    }
   ],
   "source": [
    "num_list = [5,8,2,4,7,9]\n",
    "def sum(arr):\n",
    "    sum = 0\n",
    "    for num in arr:\n",
    "        sum += num\n",
    "    return sum\n",
    "sum(num_list)"
   ]
  },
  {
   "cell_type": "code",
   "execution_count": 4,
   "metadata": {},
   "outputs": [
    {
     "data": {
      "text/plain": [
       "720"
      ]
     },
     "execution_count": 4,
     "metadata": {},
     "output_type": "execute_result"
    }
   ],
   "source": [
    "num_list = [4,3,5,6,2]\n",
    "def mul_func(arr):\n",
    "    product = 1\n",
    "    for num in arr:\n",
    "        product *= num\n",
    "    return product\n",
    "mul_func(num_list)"
   ]
  },
  {
   "cell_type": "code",
   "execution_count": 45,
   "metadata": {},
   "outputs": [
    {
     "name": "stdout",
     "output_type": "stream",
     "text": [
      "a) Sort the flattened array\n",
      "[1 2 3 3 4 4 5 5 5 5 6 7 7 7 7 7 8 8 8 8 8 9 9 9]\n",
      "\n",
      "b) Sort the second column\n",
      "[5 7 7 9]\n",
      "\n",
      "c) Sort the third row\n",
      "[2 4 6 7 8 8]\n",
      "\n",
      "d) Extract the second row onwards\n",
      "[[7 7 5 3 5 7]\n",
      " [8 7 8 4 2 6]\n",
      " [9 9 7 3 1 4]]\n",
      "\n",
      "e) Extract the third column onwards\n",
      "[[8 8 9 8]\n",
      " [5 3 5 7]\n",
      " [8 4 2 6]\n",
      " [7 3 1 4]]\n",
      "\n",
      "f) obtain the square of array_hw\n",
      "[[25 25 64 64 81 64]\n",
      " [49 49 25  9 25 49]\n",
      " [64 49 64 16  4 36]\n",
      " [81 81 49  9  1 16]]\n",
      "\n",
      "g) Slice the element from the third row and fourth column position 3X4\n",
      "4\n",
      "\n",
      "f) obtain the total sum of array_hw\n",
      "145\n",
      "\n",
      "h) How many dimentions does array_hw have?\n",
      "2\n",
      "\n",
      "i) What is the data type listed in array_hw?\n",
      "int64\n",
      "\n",
      "j) What is the size of the memory in bytes consumed by all the elements in array_hw?\n",
      "192\n"
     ]
    }
   ],
   "source": [
    "import numpy as np\n",
    "\n",
    "arr = np.array([\n",
    "    [5,5,8,8,9,8],\n",
    "    [7,7,5,3,5,7],\n",
    "    [8,7,8,4,2,6],\n",
    "    [9,9,7,3,1,4]])\n",
    "\n",
    "print('a) Sort the flattened array')\n",
    "print(np.sort(arr, axis = None))\n",
    "print('\\nb) Sort the second column')\n",
    "print(np.sort(arr[:,1]))\n",
    "print('\\nc) Sort the third row')\n",
    "print(np.sort(arr[2,:]))\n",
    "print('\\nd) Extract the second row onwards')\n",
    "print(arr[1:,...])\n",
    "print('\\ne) Extract the third column onwards')\n",
    "print(arr[...,2:])\n",
    "print('\\nf) obtain the square of array_hw')\n",
    "print(arr**2)\n",
    "print('\\ng) Slice the element from the third row and fourth column position 3X4')\n",
    "print(arr[2, 3])\n",
    "print('\\nf) obtain the total sum of array_hw')\n",
    "print(arr.sum())\n",
    "print('\\nh) How many dimentions does array_hw have?')\n",
    "print(arr.ndim)\n",
    "print('\\ni) What is the data type listed in array_hw?')\n",
    "print(arr.dtype)\n",
    "print('\\nj) What is the size of the memory in bytes consumed by all the elements in array_hw?')\n",
    "print(arr.nbytes)"
   ]
  }
 ],
 "metadata": {
  "kernelspec": {
   "display_name": "Python 3",
   "language": "python",
   "name": "python3"
  },
  "language_info": {
   "codemirror_mode": {
    "name": "ipython",
    "version": 3
   },
   "file_extension": ".py",
   "mimetype": "text/x-python",
   "name": "python",
   "nbconvert_exporter": "python",
   "pygments_lexer": "ipython3",
   "version": "3.7.1"
  }
 },
 "nbformat": 4,
 "nbformat_minor": 2
}
