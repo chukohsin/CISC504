{
 "cells": [
  {
   "cell_type": "code",
   "execution_count": 9,
   "metadata": {},
   "outputs": [
    {
     "name": "stdout",
     "output_type": "stream",
     "text": [
      "1 This number is odd :)\n",
      "4 This number is even!\n",
      "5 This number is odd :)\n",
      "6 This number is even!\n",
      "3 This number is odd :)\n",
      "2 This number is even!\n",
      "7 This number is odd :)\n",
      "8 This number is even!\n",
      "66 This number is even!\n",
      "54 This number is even!\n",
      "78 This number is even!\n",
      "97 This number is odd :)\n",
      "54 This number is even!\n",
      "34 This number is even!\n",
      "67 This number is odd :)\n",
      "65 This number is odd :)\n",
      "56 This number is even!\n",
      "45 This number is odd :)\n",
      "54 This number is even!\n"
     ]
    }
   ],
   "source": [
    "# Exercise 1:\n",
    "List_1 = [1, 4, 5, 6, 3, 2, 7 ,8 , 66, 54, 78, 97, 54, 34, 67, 65, 56, 45, 54]\n",
    "for val in List_1:\n",
    "    if val % 2 == 0:\n",
    "        print(str(val) + ' This number is even!')\n",
    "    else:\n",
    "        print(str(val) + ' This number is odd :)')\n"
   ]
  },
  {
   "cell_type": "code",
   "execution_count": 10,
   "metadata": {
    "scrolled": true
   },
   "outputs": [
    {
     "name": "stdout",
     "output_type": "stream",
     "text": [
      "1 This number is odd :)\n",
      "4 This number is even!\n",
      "5 This number is odd :)\n",
      "6 This number is even!\n",
      "3 This number is odd :)\n",
      "2 This number is even!\n",
      "7 This number is odd :)\n",
      "8 This number is even!\n",
      "66 This number is even!\n"
     ]
    }
   ],
   "source": [
    "# Exercise 1 (modified 1 - stop at 66):\n",
    "List_1 = [1, 4, 5, 6, 3, 2, 7 ,8 , 66, 54, 78, 97, 54, 34, 67, 65, 56, 45, 54]\n",
    "for val in List_1:\n",
    "    if val % 2 == 0:\n",
    "        print(str(val) + ' This number is even!')\n",
    "    else:\n",
    "        print(str(val) + ' This number is odd :)')\n",
    "    if (val == 66):\n",
    "        break"
   ]
  },
  {
   "cell_type": "code",
   "execution_count": 11,
   "metadata": {},
   "outputs": [
    {
     "name": "stdout",
     "output_type": "stream",
     "text": [
      "1 This number is odd :)\n",
      "4 This number is even!\n",
      "5 This number is odd :)\n",
      "6 This number is even!\n",
      "3 This number is odd :)\n",
      "2 This number is even!\n",
      "7 This number is odd :)\n",
      "66 This number is even!\n",
      "54 This number is even!\n",
      "78 This number is even!\n",
      "97 This number is odd :)\n",
      "54 This number is even!\n",
      "34 This number is even!\n",
      "67 This number is odd :)\n",
      "65 This number is odd :)\n"
     ]
    }
   ],
   "source": [
    "# Exercise 1 (modified 2 - skips value 8 and stop at 65):\n",
    "List_1 = [1, 4, 5, 6, 3, 2, 7 ,8 , 66, 54, 78, 97, 54, 34, 67, 65, 56, 45, 54]\n",
    "for val in List_1:\n",
    "    if val == 8:\n",
    "        continue\n",
    "    if val % 2 == 0:\n",
    "        print(str(val) + ' This number is even!')\n",
    "    else:\n",
    "        print(str(val) + ' This number is odd :)')\n",
    "    if val == 65:\n",
    "        break"
   ]
  },
  {
   "cell_type": "code",
   "execution_count": 19,
   "metadata": {},
   "outputs": [
    {
     "name": "stdout",
     "output_type": "stream",
     "text": [
      "---- While Loop ----\n",
      "1\n",
      "2\n",
      "0\n",
      "1\n",
      "2\n",
      "0\n",
      "1\n",
      "2\n",
      "0\n",
      "1\n",
      "2\n",
      "0\n",
      "1\n",
      "---- For Loop ----\n",
      "1\n",
      "2\n",
      "0\n",
      "1\n",
      "2\n",
      "0\n",
      "1\n",
      "2\n",
      "0\n",
      "1\n",
      "2\n",
      "0\n",
      "1\n"
     ]
    }
   ],
   "source": [
    "num = 100\n",
    "print('---- While Loop ----')\n",
    "while num > 75:\n",
    "    print(num % 3)\n",
    "    num = num - 2\n",
    "\n",
    "print('---- For Loop ----')\n",
    "for num in range(100, 75, -2):\n",
    "    print(num % 3)"
   ]
  },
  {
   "cell_type": "code",
   "execution_count": null,
   "metadata": {},
   "outputs": [],
   "source": []
  }
 ],
 "metadata": {
  "kernelspec": {
   "display_name": "Python 3",
   "language": "python",
   "name": "python3"
  },
  "language_info": {
   "codemirror_mode": {
    "name": "ipython",
    "version": 3
   },
   "file_extension": ".py",
   "mimetype": "text/x-python",
   "name": "python",
   "nbconvert_exporter": "python",
   "pygments_lexer": "ipython3",
   "version": "3.7.1"
  }
 },
 "nbformat": 4,
 "nbformat_minor": 2
}
